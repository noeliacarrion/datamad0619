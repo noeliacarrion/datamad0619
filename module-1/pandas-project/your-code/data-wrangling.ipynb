{
 "cells": [
  {
   "cell_type": "markdown",
   "metadata": {},
   "source": [
    "## Objetivo del Data-Cleaning"
   ]
  },
  {
   "cell_type": "markdown",
   "metadata": {},
   "source": [
    "#### A partir del dataset aportado, la idea es limpiar los datos de forma que se puedan extraer información relevante. He partido de las siguientes hipótesis que servirán como guía para decidir el tipo de limpieza de datos."
   ]
  },
  {
   "cell_type": "markdown",
   "metadata": {},
   "source": [
    "\n",
    "- El país donde más gente ha muerto por tiburones es USA.\n",
    "\n",
    "- El número de muertes por ataque de tiburones es mayor en los casos en los que hay intervención o injerencia humana.\n",
    "\n",
    "- La actividad más relacionada con ataque de tiburones es el surf"
   ]
  },
  {
   "cell_type": "code",
   "execution_count": 1,
   "metadata": {},
   "outputs": [],
   "source": [
    "import pandas as pd\n",
    "import numpy as np\n",
    "import matplotlib.pyplot as plt\n",
    "import statistics as st\n",
    "import re"
   ]
  },
  {
   "cell_type": "code",
   "execution_count": 2,
   "metadata": {},
   "outputs": [],
   "source": [
    "sharkAttack = pd.read_csv('../your-code/dataset_origin.csv', engine='python')"
   ]
  },
  {
   "cell_type": "markdown",
   "metadata": {},
   "source": [
    "###### Como quiero analizar los países voy a comenzar viendo los valores que tengo, si hay nulos, cuántos y determinar si cuento con ellos para el análisis o no."
   ]
  },
  {
   "cell_type": "code",
   "execution_count": 3,
   "metadata": {},
   "outputs": [
    {
     "data": {
      "text/plain": [
       "USA                 2116\n",
       "AUSTRALIA           1279\n",
       "SOUTH AFRICA         565\n",
       "PAPUA NEW GUINEA     133\n",
       "NEW ZEALAND          125\n",
       "Name: Country, dtype: int64"
      ]
     },
     "execution_count": 3,
     "metadata": {},
     "output_type": "execute_result"
    }
   ],
   "source": [
    "sharkAttack['Country'].value_counts().head()"
   ]
  },
  {
   "cell_type": "code",
   "execution_count": 4,
   "metadata": {},
   "outputs": [
    {
     "data": {
      "text/html": [
       "<div>\n",
       "<style scoped>\n",
       "    .dataframe tbody tr th:only-of-type {\n",
       "        vertical-align: middle;\n",
       "    }\n",
       "\n",
       "    .dataframe tbody tr th {\n",
       "        vertical-align: top;\n",
       "    }\n",
       "\n",
       "    .dataframe thead th {\n",
       "        text-align: right;\n",
       "    }\n",
       "</style>\n",
       "<table border=\"1\" class=\"dataframe\">\n",
       "  <thead>\n",
       "    <tr style=\"text-align: right;\">\n",
       "      <th></th>\n",
       "      <th>Case Number</th>\n",
       "      <th>Date</th>\n",
       "      <th>Year</th>\n",
       "      <th>Type</th>\n",
       "      <th>Country</th>\n",
       "      <th>Area</th>\n",
       "      <th>Location</th>\n",
       "      <th>Activity</th>\n",
       "      <th>Name</th>\n",
       "      <th>Sex</th>\n",
       "      <th>...</th>\n",
       "      <th>Species</th>\n",
       "      <th>Investigator or Source</th>\n",
       "      <th>pdf</th>\n",
       "      <th>href formula</th>\n",
       "      <th>href</th>\n",
       "      <th>Case Number.1</th>\n",
       "      <th>Case Number.2</th>\n",
       "      <th>original order</th>\n",
       "      <th>Unnamed: 22</th>\n",
       "      <th>Unnamed: 23</th>\n",
       "    </tr>\n",
       "  </thead>\n",
       "  <tbody>\n",
       "    <tr>\n",
       "      <th>21</th>\n",
       "      <td>2016.07.28.R</td>\n",
       "      <td>28-Jul-16</td>\n",
       "      <td>2016</td>\n",
       "      <td>Unprovoked</td>\n",
       "      <td>CHINA</td>\n",
       "      <td>Hong Kong</td>\n",
       "      <td>NaN</td>\n",
       "      <td>Swimming</td>\n",
       "      <td>Justus Franz</td>\n",
       "      <td>M</td>\n",
       "      <td>...</td>\n",
       "      <td>NaN</td>\n",
       "      <td>Klassick, 7/28/2016</td>\n",
       "      <td>2016.07.28.R-Franz.pdf</td>\n",
       "      <td>http://sharkattackfile.net/spreadsheets/pdf_di...</td>\n",
       "      <td>http://sharkattackfile.net/spreadsheets/pdf_di...</td>\n",
       "      <td>2016.07.28.R</td>\n",
       "      <td>2016.07.28.R</td>\n",
       "      <td>5972</td>\n",
       "      <td>NaN</td>\n",
       "      <td>NaN</td>\n",
       "    </tr>\n",
       "    <tr>\n",
       "      <th>42</th>\n",
       "      <td>2016.06.24</td>\n",
       "      <td>24-Jun-16</td>\n",
       "      <td>2016</td>\n",
       "      <td>Unprovoked</td>\n",
       "      <td>COLUMBIA</td>\n",
       "      <td>Isla Provedencia</td>\n",
       "      <td>NaN</td>\n",
       "      <td>Scuba Diving</td>\n",
       "      <td>Arturo Velez</td>\n",
       "      <td>M</td>\n",
       "      <td>...</td>\n",
       "      <td>Caribbean reef shark, 4.5'</td>\n",
       "      <td>Dr. A. Velez</td>\n",
       "      <td>2016.06.24-Velez.pdf</td>\n",
       "      <td>http://sharkattackfile.net/spreadsheets/pdf_di...</td>\n",
       "      <td>http://sharkattackfile.net/spreadsheets/pdf_di...</td>\n",
       "      <td>2016.06.24</td>\n",
       "      <td>2016.06.24</td>\n",
       "      <td>5951</td>\n",
       "      <td>NaN</td>\n",
       "      <td>NaN</td>\n",
       "    </tr>\n",
       "    <tr>\n",
       "      <th>73</th>\n",
       "      <td>2016.04.08</td>\n",
       "      <td>08-Apr-16</td>\n",
       "      <td>2016</td>\n",
       "      <td>Invalid</td>\n",
       "      <td>CAPE VERDE</td>\n",
       "      <td>Boa Vista Island</td>\n",
       "      <td>NaN</td>\n",
       "      <td>NaN</td>\n",
       "      <td>a British citizen</td>\n",
       "      <td>M</td>\n",
       "      <td>...</td>\n",
       "      <td>Shark involvement not confirmed</td>\n",
       "      <td>L.O.Guttke</td>\n",
       "      <td>2016.04.08-CapeVerde.pdf</td>\n",
       "      <td>http://sharkattackfile.net/spreadsheets/pdf_di...</td>\n",
       "      <td>http://sharkattackfile.net/spreadsheets/pdf_di...</td>\n",
       "      <td>2016.04.08</td>\n",
       "      <td>2016.04.08</td>\n",
       "      <td>5920</td>\n",
       "      <td>NaN</td>\n",
       "      <td>NaN</td>\n",
       "    </tr>\n",
       "    <tr>\n",
       "      <th>80</th>\n",
       "      <td>2016.03.26</td>\n",
       "      <td>26-Mar-16</td>\n",
       "      <td>2016</td>\n",
       "      <td>Provoked</td>\n",
       "      <td>BAHAMAS</td>\n",
       "      <td>NaN</td>\n",
       "      <td>NaN</td>\n",
       "      <td>NaN</td>\n",
       "      <td>Henry Kreckman</td>\n",
       "      <td>M</td>\n",
       "      <td>...</td>\n",
       "      <td>Nurse shark, 2.5-ft</td>\n",
       "      <td>Wisconsin State Journal, 4/2/2016</td>\n",
       "      <td>2016.03.26-Kreckman.pdf</td>\n",
       "      <td>http://sharkattackfile.net/spreadsheets/pdf_di...</td>\n",
       "      <td>http://sharkattackfile.net/spreadsheets/pdf_di...</td>\n",
       "      <td>2016.03.26</td>\n",
       "      <td>2016.03.26</td>\n",
       "      <td>5913</td>\n",
       "      <td>NaN</td>\n",
       "      <td>NaN</td>\n",
       "    </tr>\n",
       "    <tr>\n",
       "      <th>83</th>\n",
       "      <td>2016.03.10</td>\n",
       "      <td>10-Mar-16</td>\n",
       "      <td>2016</td>\n",
       "      <td>Unprovoked</td>\n",
       "      <td>Fiji</td>\n",
       "      <td>Vanua Levu</td>\n",
       "      <td>NaN</td>\n",
       "      <td>Diving for beche-de-mer</td>\n",
       "      <td>Maika Tabua</td>\n",
       "      <td>M</td>\n",
       "      <td>...</td>\n",
       "      <td>NaN</td>\n",
       "      <td>Fiji Sun, 3/12/2016</td>\n",
       "      <td>2016.03.10-Tabua.pdf</td>\n",
       "      <td>http://sharkattackfile.net/spreadsheets/pdf_di...</td>\n",
       "      <td>http://sharkattackfile.net/spreadsheets/pdf_di...</td>\n",
       "      <td>2016.03.10</td>\n",
       "      <td>2016.03.10</td>\n",
       "      <td>5910</td>\n",
       "      <td>NaN</td>\n",
       "      <td>NaN</td>\n",
       "    </tr>\n",
       "  </tbody>\n",
       "</table>\n",
       "<p>5 rows × 24 columns</p>\n",
       "</div>"
      ],
      "text/plain": [
       "     Case Number       Date  Year        Type     Country              Area  \\\n",
       "21  2016.07.28.R  28-Jul-16  2016  Unprovoked       CHINA         Hong Kong   \n",
       "42    2016.06.24  24-Jun-16  2016  Unprovoked    COLUMBIA  Isla Provedencia   \n",
       "73    2016.04.08  08-Apr-16  2016     Invalid  CAPE VERDE  Boa Vista Island   \n",
       "80    2016.03.26  26-Mar-16  2016    Provoked     BAHAMAS               NaN   \n",
       "83    2016.03.10  10-Mar-16  2016  Unprovoked        Fiji        Vanua Levu   \n",
       "\n",
       "   Location                 Activity               Name Sex   ...  \\\n",
       "21      NaN                 Swimming       Justus Franz    M  ...   \n",
       "42      NaN             Scuba Diving       Arturo Velez    M  ...   \n",
       "73      NaN                      NaN  a British citizen    M  ...   \n",
       "80      NaN                      NaN    Henry Kreckman     M  ...   \n",
       "83      NaN  Diving for beche-de-mer        Maika Tabua    M  ...   \n",
       "\n",
       "                           Species              Investigator or Source  \\\n",
       "21                              NaN                Klassick, 7/28/2016   \n",
       "42       Caribbean reef shark, 4.5'                       Dr. A. Velez   \n",
       "73  Shark involvement not confirmed                         L.O.Guttke   \n",
       "80              Nurse shark, 2.5-ft  Wisconsin State Journal, 4/2/2016   \n",
       "83                              NaN                Fiji Sun, 3/12/2016   \n",
       "\n",
       "                         pdf  \\\n",
       "21    2016.07.28.R-Franz.pdf   \n",
       "42      2016.06.24-Velez.pdf   \n",
       "73  2016.04.08-CapeVerde.pdf   \n",
       "80   2016.03.26-Kreckman.pdf   \n",
       "83      2016.03.10-Tabua.pdf   \n",
       "\n",
       "                                         href formula  \\\n",
       "21  http://sharkattackfile.net/spreadsheets/pdf_di...   \n",
       "42  http://sharkattackfile.net/spreadsheets/pdf_di...   \n",
       "73  http://sharkattackfile.net/spreadsheets/pdf_di...   \n",
       "80  http://sharkattackfile.net/spreadsheets/pdf_di...   \n",
       "83  http://sharkattackfile.net/spreadsheets/pdf_di...   \n",
       "\n",
       "                                                 href Case Number.1  \\\n",
       "21  http://sharkattackfile.net/spreadsheets/pdf_di...  2016.07.28.R   \n",
       "42  http://sharkattackfile.net/spreadsheets/pdf_di...    2016.06.24   \n",
       "73  http://sharkattackfile.net/spreadsheets/pdf_di...    2016.04.08   \n",
       "80  http://sharkattackfile.net/spreadsheets/pdf_di...    2016.03.26   \n",
       "83  http://sharkattackfile.net/spreadsheets/pdf_di...    2016.03.10   \n",
       "\n",
       "   Case Number.2 original order Unnamed: 22 Unnamed: 23  \n",
       "21  2016.07.28.R           5972         NaN         NaN  \n",
       "42    2016.06.24           5951         NaN         NaN  \n",
       "73    2016.04.08           5920         NaN         NaN  \n",
       "80    2016.03.26           5913         NaN         NaN  \n",
       "83    2016.03.10           5910         NaN         NaN  \n",
       "\n",
       "[5 rows x 24 columns]"
      ]
     },
     "execution_count": 4,
     "metadata": {},
     "output_type": "execute_result"
    }
   ],
   "source": [
    "sharkAttack[(sharkAttack[\"Location\"].isnull() == True)].head()"
   ]
  },
  {
   "cell_type": "code",
   "execution_count": 5,
   "metadata": {},
   "outputs": [
    {
     "data": {
      "text/html": [
       "<div>\n",
       "<style scoped>\n",
       "    .dataframe tbody tr th:only-of-type {\n",
       "        vertical-align: middle;\n",
       "    }\n",
       "\n",
       "    .dataframe tbody tr th {\n",
       "        vertical-align: top;\n",
       "    }\n",
       "\n",
       "    .dataframe thead th {\n",
       "        text-align: right;\n",
       "    }\n",
       "</style>\n",
       "<table border=\"1\" class=\"dataframe\">\n",
       "  <thead>\n",
       "    <tr style=\"text-align: right;\">\n",
       "      <th></th>\n",
       "      <th>Case Number</th>\n",
       "      <th>Date</th>\n",
       "      <th>Year</th>\n",
       "      <th>Type</th>\n",
       "      <th>Country</th>\n",
       "      <th>Area</th>\n",
       "      <th>Location</th>\n",
       "      <th>Activity</th>\n",
       "      <th>Name</th>\n",
       "      <th>Sex</th>\n",
       "      <th>...</th>\n",
       "      <th>Species</th>\n",
       "      <th>Investigator or Source</th>\n",
       "      <th>pdf</th>\n",
       "      <th>href formula</th>\n",
       "      <th>href</th>\n",
       "      <th>Case Number.1</th>\n",
       "      <th>Case Number.2</th>\n",
       "      <th>original order</th>\n",
       "      <th>Unnamed: 22</th>\n",
       "      <th>Unnamed: 23</th>\n",
       "    </tr>\n",
       "  </thead>\n",
       "  <tbody>\n",
       "    <tr>\n",
       "      <th>0</th>\n",
       "      <td>2016.09.18.c</td>\n",
       "      <td>18-Sep-16</td>\n",
       "      <td>2016</td>\n",
       "      <td>Unprovoked</td>\n",
       "      <td>USA</td>\n",
       "      <td>Florida</td>\n",
       "      <td>New Smyrna Beach, Volusia County</td>\n",
       "      <td>Surfing</td>\n",
       "      <td>male</td>\n",
       "      <td>M</td>\n",
       "      <td>...</td>\n",
       "      <td>NaN</td>\n",
       "      <td>Orlando Sentinel, 9/19/2016</td>\n",
       "      <td>2016.09.18.c-NSB.pdf</td>\n",
       "      <td>http://sharkattackfile.net/spreadsheets/pdf_di...</td>\n",
       "      <td>http://sharkattackfile.net/spreadsheets/pdf_di...</td>\n",
       "      <td>2016.09.18.c</td>\n",
       "      <td>2016.09.18.c</td>\n",
       "      <td>5993</td>\n",
       "      <td>NaN</td>\n",
       "      <td>NaN</td>\n",
       "    </tr>\n",
       "    <tr>\n",
       "      <th>1</th>\n",
       "      <td>2016.09.18.b</td>\n",
       "      <td>18-Sep-16</td>\n",
       "      <td>2016</td>\n",
       "      <td>Unprovoked</td>\n",
       "      <td>USA</td>\n",
       "      <td>Florida</td>\n",
       "      <td>New Smyrna Beach, Volusia County</td>\n",
       "      <td>Surfing</td>\n",
       "      <td>Chucky Luciano</td>\n",
       "      <td>M</td>\n",
       "      <td>...</td>\n",
       "      <td>NaN</td>\n",
       "      <td>Orlando Sentinel, 9/19/2016</td>\n",
       "      <td>2016.09.18.b-Luciano.pdf</td>\n",
       "      <td>http://sharkattackfile.net/spreadsheets/pdf_di...</td>\n",
       "      <td>http://sharkattackfile.net/spreadsheets/pdf_di...</td>\n",
       "      <td>2016.09.18.b</td>\n",
       "      <td>2016.09.18.b</td>\n",
       "      <td>5992</td>\n",
       "      <td>NaN</td>\n",
       "      <td>NaN</td>\n",
       "    </tr>\n",
       "    <tr>\n",
       "      <th>2</th>\n",
       "      <td>2016.09.18.a</td>\n",
       "      <td>18-Sep-16</td>\n",
       "      <td>2016</td>\n",
       "      <td>Unprovoked</td>\n",
       "      <td>USA</td>\n",
       "      <td>Florida</td>\n",
       "      <td>New Smyrna Beach, Volusia County</td>\n",
       "      <td>Surfing</td>\n",
       "      <td>male</td>\n",
       "      <td>M</td>\n",
       "      <td>...</td>\n",
       "      <td>NaN</td>\n",
       "      <td>Orlando Sentinel, 9/19/2016</td>\n",
       "      <td>2016.09.18.a-NSB.pdf</td>\n",
       "      <td>http://sharkattackfile.net/spreadsheets/pdf_di...</td>\n",
       "      <td>http://sharkattackfile.net/spreadsheets/pdf_di...</td>\n",
       "      <td>2016.09.18.a</td>\n",
       "      <td>2016.09.18.a</td>\n",
       "      <td>5991</td>\n",
       "      <td>NaN</td>\n",
       "      <td>NaN</td>\n",
       "    </tr>\n",
       "    <tr>\n",
       "      <th>3</th>\n",
       "      <td>2016.09.17</td>\n",
       "      <td>17-Sep-16</td>\n",
       "      <td>2016</td>\n",
       "      <td>Unprovoked</td>\n",
       "      <td>AUSTRALIA</td>\n",
       "      <td>Victoria</td>\n",
       "      <td>Thirteenth Beach</td>\n",
       "      <td>Surfing</td>\n",
       "      <td>Rory Angiolella</td>\n",
       "      <td>M</td>\n",
       "      <td>...</td>\n",
       "      <td>NaN</td>\n",
       "      <td>The Age, 9/18/2016</td>\n",
       "      <td>2016.09.17-Angiolella.pdf</td>\n",
       "      <td>http://sharkattackfile.net/spreadsheets/pdf_di...</td>\n",
       "      <td>http://sharkattackfile.net/spreadsheets/pdf_di...</td>\n",
       "      <td>2016.09.17</td>\n",
       "      <td>2016.09.17</td>\n",
       "      <td>5990</td>\n",
       "      <td>NaN</td>\n",
       "      <td>NaN</td>\n",
       "    </tr>\n",
       "    <tr>\n",
       "      <th>4</th>\n",
       "      <td>2016.09.15</td>\n",
       "      <td>16-Sep-16</td>\n",
       "      <td>2016</td>\n",
       "      <td>Unprovoked</td>\n",
       "      <td>AUSTRALIA</td>\n",
       "      <td>Victoria</td>\n",
       "      <td>Bells Beach</td>\n",
       "      <td>Surfing</td>\n",
       "      <td>male</td>\n",
       "      <td>M</td>\n",
       "      <td>...</td>\n",
       "      <td>2 m shark</td>\n",
       "      <td>The Age, 9/16/2016</td>\n",
       "      <td>2016.09.16-BellsBeach.pdf</td>\n",
       "      <td>http://sharkattackfile.net/spreadsheets/pdf_di...</td>\n",
       "      <td>http://sharkattackfile.net/spreadsheets/pdf_di...</td>\n",
       "      <td>2016.09.16</td>\n",
       "      <td>2016.09.15</td>\n",
       "      <td>5989</td>\n",
       "      <td>NaN</td>\n",
       "      <td>NaN</td>\n",
       "    </tr>\n",
       "  </tbody>\n",
       "</table>\n",
       "<p>5 rows × 24 columns</p>\n",
       "</div>"
      ],
      "text/plain": [
       "    Case Number       Date  Year        Type    Country      Area  \\\n",
       "0  2016.09.18.c  18-Sep-16  2016  Unprovoked        USA   Florida   \n",
       "1  2016.09.18.b  18-Sep-16  2016  Unprovoked        USA   Florida   \n",
       "2  2016.09.18.a  18-Sep-16  2016  Unprovoked        USA   Florida   \n",
       "3    2016.09.17  17-Sep-16  2016  Unprovoked  AUSTRALIA  Victoria   \n",
       "4    2016.09.15  16-Sep-16  2016  Unprovoked  AUSTRALIA  Victoria   \n",
       "\n",
       "                           Location Activity             Name Sex   ...  \\\n",
       "0  New Smyrna Beach, Volusia County  Surfing             male    M  ...   \n",
       "1  New Smyrna Beach, Volusia County  Surfing   Chucky Luciano    M  ...   \n",
       "2  New Smyrna Beach, Volusia County  Surfing             male    M  ...   \n",
       "3                  Thirteenth Beach  Surfing  Rory Angiolella    M  ...   \n",
       "4                       Bells Beach  Surfing             male    M  ...   \n",
       "\n",
       "    Species        Investigator or Source                        pdf  \\\n",
       "0        NaN  Orlando Sentinel, 9/19/2016       2016.09.18.c-NSB.pdf   \n",
       "1        NaN  Orlando Sentinel, 9/19/2016   2016.09.18.b-Luciano.pdf   \n",
       "2        NaN  Orlando Sentinel, 9/19/2016       2016.09.18.a-NSB.pdf   \n",
       "3        NaN           The Age, 9/18/2016  2016.09.17-Angiolella.pdf   \n",
       "4  2 m shark           The Age, 9/16/2016  2016.09.16-BellsBeach.pdf   \n",
       "\n",
       "                                        href formula  \\\n",
       "0  http://sharkattackfile.net/spreadsheets/pdf_di...   \n",
       "1  http://sharkattackfile.net/spreadsheets/pdf_di...   \n",
       "2  http://sharkattackfile.net/spreadsheets/pdf_di...   \n",
       "3  http://sharkattackfile.net/spreadsheets/pdf_di...   \n",
       "4  http://sharkattackfile.net/spreadsheets/pdf_di...   \n",
       "\n",
       "                                                href Case Number.1  \\\n",
       "0  http://sharkattackfile.net/spreadsheets/pdf_di...  2016.09.18.c   \n",
       "1  http://sharkattackfile.net/spreadsheets/pdf_di...  2016.09.18.b   \n",
       "2  http://sharkattackfile.net/spreadsheets/pdf_di...  2016.09.18.a   \n",
       "3  http://sharkattackfile.net/spreadsheets/pdf_di...    2016.09.17   \n",
       "4  http://sharkattackfile.net/spreadsheets/pdf_di...    2016.09.16   \n",
       "\n",
       "  Case Number.2 original order Unnamed: 22 Unnamed: 23  \n",
       "0  2016.09.18.c           5993         NaN         NaN  \n",
       "1  2016.09.18.b           5992         NaN         NaN  \n",
       "2  2016.09.18.a           5991         NaN         NaN  \n",
       "3    2016.09.17           5990         NaN         NaN  \n",
       "4    2016.09.15           5989         NaN         NaN  \n",
       "\n",
       "[5 rows x 24 columns]"
      ]
     },
     "execution_count": 5,
     "metadata": {},
     "output_type": "execute_result"
    }
   ],
   "source": [
    "sharkAttack[(sharkAttack[\"Unnamed: 23\"].isnull() == True)].head()\n",
    "sharkAttack[(sharkAttack[\"Unnamed: 22\"].isnull() == True)].head()\n",
    "\n",
    "#Voy a comprobar los valores de esta columna porque no creo que me sirvan para el análisis."
   ]
  },
  {
   "cell_type": "code",
   "execution_count": 6,
   "metadata": {},
   "outputs": [
    {
     "data": {
      "text/plain": [
       "True     5979\n",
       "False      13\n",
       "dtype: int64"
      ]
     },
     "execution_count": 6,
     "metadata": {},
     "output_type": "execute_result"
    }
   ],
   "source": [
    "casNumber1 = sharkAttack[(sharkAttack[\"Case Number.1\"].isnull() == True)]\n",
    "casNumber1.shape\n",
    "x = sharkAttack[\"Case Number.1\"]== sharkAttack[\"Case Number\"] \n",
    "#Aquí compruebo que ambas columnas contienen en la mayor parte de los casos los mismos valores.\n",
    "x.value_counts()"
   ]
  },
  {
   "cell_type": "markdown",
   "metadata": {},
   "source": [
    "##### Las fechas están muy mal organizadas en el dataset. Voy a unificarlas a partir de la columna 'Case Number' para tener limpio el mes"
   ]
  },
  {
   "cell_type": "code",
   "execution_count": 7,
   "metadata": {},
   "outputs": [],
   "source": [
    "def replaceString(e):\n",
    "    e=str(e)\n",
    "    e = re.findall('\\d\\d\\d\\.(\\d\\d).', e)\n",
    "    if e ==[]:\n",
    "        return 0\n",
    "    return e[0]"
   ]
  },
  {
   "cell_type": "code",
   "execution_count": 8,
   "metadata": {},
   "outputs": [],
   "source": [
    "sharkAttack['Case Number'] = sharkAttack['Case Number'].apply(replaceString)"
   ]
  },
  {
   "cell_type": "code",
   "execution_count": 9,
   "metadata": {},
   "outputs": [],
   "source": [
    "sharkAttack = sharkAttack[(sharkAttack['Case Number']!='00') & (sharkAttack['Case Number']!=0)]"
   ]
  },
  {
   "cell_type": "code",
   "execution_count": 10,
   "metadata": {},
   "outputs": [],
   "source": [
    "sharkAttack = sharkAttack.rename(index=str, columns={\"Case Number\": \"Month\"})"
   ]
  },
  {
   "cell_type": "markdown",
   "metadata": {},
   "source": [
    "#### He decidido analizar los últimos 60 años porque puede quedar descompensado si tengo en cuenta fechas anteriores.  En muchos casos no se tiene la información suficiente para comprobar la localización o el tipo de actividad."
   ]
  },
  {
   "cell_type": "code",
   "execution_count": 11,
   "metadata": {},
   "outputs": [
    {
     "data": {
      "text/html": [
       "<div>\n",
       "<style scoped>\n",
       "    .dataframe tbody tr th:only-of-type {\n",
       "        vertical-align: middle;\n",
       "    }\n",
       "\n",
       "    .dataframe tbody tr th {\n",
       "        vertical-align: top;\n",
       "    }\n",
       "\n",
       "    .dataframe thead th {\n",
       "        text-align: right;\n",
       "    }\n",
       "</style>\n",
       "<table border=\"1\" class=\"dataframe\">\n",
       "  <thead>\n",
       "    <tr style=\"text-align: right;\">\n",
       "      <th></th>\n",
       "      <th>Month</th>\n",
       "      <th>Date</th>\n",
       "      <th>Year</th>\n",
       "      <th>Type</th>\n",
       "      <th>Country</th>\n",
       "      <th>Area</th>\n",
       "      <th>Location</th>\n",
       "      <th>Activity</th>\n",
       "      <th>Name</th>\n",
       "      <th>Sex</th>\n",
       "      <th>...</th>\n",
       "      <th>Species</th>\n",
       "      <th>Investigator or Source</th>\n",
       "      <th>pdf</th>\n",
       "      <th>href formula</th>\n",
       "      <th>href</th>\n",
       "      <th>Case Number.1</th>\n",
       "      <th>Case Number.2</th>\n",
       "      <th>original order</th>\n",
       "      <th>Unnamed: 22</th>\n",
       "      <th>Unnamed: 23</th>\n",
       "    </tr>\n",
       "  </thead>\n",
       "  <tbody>\n",
       "    <tr>\n",
       "      <th>4047</th>\n",
       "      <td>12</td>\n",
       "      <td>Reported 31-Dec-1955</td>\n",
       "      <td>1955</td>\n",
       "      <td>Boating</td>\n",
       "      <td>AUSTRALIA</td>\n",
       "      <td>Tasmania</td>\n",
       "      <td>NaN</td>\n",
       "      <td>Ocean racing</td>\n",
       "      <td>yacht Even</td>\n",
       "      <td>NaN</td>\n",
       "      <td>...</td>\n",
       "      <td>NaN</td>\n",
       "      <td>C. Black, GSAF</td>\n",
       "      <td>1955.12.31.R-Even.pdf</td>\n",
       "      <td>http://sharkattackfile.net/spreadsheets/pdf_di...</td>\n",
       "      <td>http://sharkattackfile.net/spreadsheets/pdf_di...</td>\n",
       "      <td>1955.12.31</td>\n",
       "      <td>1955.12.31</td>\n",
       "      <td>1946</td>\n",
       "      <td>NaN</td>\n",
       "      <td>NaN</td>\n",
       "    </tr>\n",
       "    <tr>\n",
       "      <th>4048</th>\n",
       "      <td>12</td>\n",
       "      <td>11-Dec-55</td>\n",
       "      <td>1955</td>\n",
       "      <td>Boating</td>\n",
       "      <td>USA</td>\n",
       "      <td>Florida</td>\n",
       "      <td>� mile offshore &amp; 9 miles north of Fort Pierce</td>\n",
       "      <td>Fishing for pompano</td>\n",
       "      <td>boat, occupants: P.D. Neilly &amp; Charlton Anderson</td>\n",
       "      <td>NaN</td>\n",
       "      <td>...</td>\n",
       "      <td>NaN</td>\n",
       "      <td>R.F. Hutton, 3/30/1959, citing Miami Herald; T...</td>\n",
       "      <td>1955.12.11-boat Neilly_Charlton.pdf</td>\n",
       "      <td>http://sharkattackfile.net/spreadsheets/pdf_di...</td>\n",
       "      <td>http://sharkattackfile.net/spreadsheets/pdf_di...</td>\n",
       "      <td>1955.12.11</td>\n",
       "      <td>1955.12.11</td>\n",
       "      <td>1945</td>\n",
       "      <td>NaN</td>\n",
       "      <td>NaN</td>\n",
       "    </tr>\n",
       "    <tr>\n",
       "      <th>4049</th>\n",
       "      <td>11</td>\n",
       "      <td>16-Nov-55</td>\n",
       "      <td>1955</td>\n",
       "      <td>Unprovoked</td>\n",
       "      <td>PAPUA NEW GUINEA</td>\n",
       "      <td>Central Province</td>\n",
       "      <td>Kalautu Village, Baibara at the mouth of Oibad...</td>\n",
       "      <td>Swimming</td>\n",
       "      <td>Niu Bodu</td>\n",
       "      <td>M</td>\n",
       "      <td>...</td>\n",
       "      <td>Wobbegong shark</td>\n",
       "      <td>J. G. Davis; A.M. Rapson, pp.143 &amp; 148</td>\n",
       "      <td>1955.11.16-NiuBodu.pdf</td>\n",
       "      <td>http://sharkattackfile.net/spreadsheets/pdf_di...</td>\n",
       "      <td>http://sharkattackfile.net/spreadsheets/pdf_di...</td>\n",
       "      <td>1955.11.16</td>\n",
       "      <td>1955.11.16</td>\n",
       "      <td>1944</td>\n",
       "      <td>NaN</td>\n",
       "      <td>NaN</td>\n",
       "    </tr>\n",
       "    <tr>\n",
       "      <th>4050</th>\n",
       "      <td>11</td>\n",
       "      <td>Nov-55</td>\n",
       "      <td>1955</td>\n",
       "      <td>Unprovoked</td>\n",
       "      <td>PAPUA NEW GUINEA</td>\n",
       "      <td>Admiralty Islands, Manus Province</td>\n",
       "      <td>Low Island, Manus</td>\n",
       "      <td>Spearfishing</td>\n",
       "      <td>male</td>\n",
       "      <td>M</td>\n",
       "      <td>...</td>\n",
       "      <td>NaN</td>\n",
       "      <td>Rapson, p.149</td>\n",
       "      <td>1955.11.00-LowIsland.pdf</td>\n",
       "      <td>http://sharkattackfile.net/spreadsheets/pdf_di...</td>\n",
       "      <td>http://sharkattackfile.net/spreadsheets/pdf_di...</td>\n",
       "      <td>1955.11.00</td>\n",
       "      <td>1955.11.00</td>\n",
       "      <td>1943</td>\n",
       "      <td>NaN</td>\n",
       "      <td>NaN</td>\n",
       "    </tr>\n",
       "    <tr>\n",
       "      <th>4051</th>\n",
       "      <td>10</td>\n",
       "      <td>16-Oct-55</td>\n",
       "      <td>1955</td>\n",
       "      <td>Provoked</td>\n",
       "      <td>AUSTRALIA</td>\n",
       "      <td>Queensland</td>\n",
       "      <td>Tully, North Queensland</td>\n",
       "      <td>Spearfishing &amp; lassoed shark</td>\n",
       "      <td>Noel Cross</td>\n",
       "      <td>M</td>\n",
       "      <td>...</td>\n",
       "      <td>6' shark</td>\n",
       "      <td>Sydney Morning Herald, 10/17/1955;V.M. Copples...</td>\n",
       "      <td>1955.10.16-Cross.pdf</td>\n",
       "      <td>http://sharkattackfile.net/spreadsheets/pdf_di...</td>\n",
       "      <td>http://sharkattackfile.net/spreadsheets/pdf_di...</td>\n",
       "      <td>1955.10.16</td>\n",
       "      <td>1955.10.16</td>\n",
       "      <td>1942</td>\n",
       "      <td>NaN</td>\n",
       "      <td>NaN</td>\n",
       "    </tr>\n",
       "  </tbody>\n",
       "</table>\n",
       "<p>5 rows × 24 columns</p>\n",
       "</div>"
      ],
      "text/plain": [
       "     Month                  Date  Year        Type           Country  \\\n",
       "4047    12  Reported 31-Dec-1955  1955     Boating         AUSTRALIA   \n",
       "4048    12             11-Dec-55  1955     Boating               USA   \n",
       "4049    11             16-Nov-55  1955  Unprovoked  PAPUA NEW GUINEA   \n",
       "4050    11                Nov-55  1955  Unprovoked  PAPUA NEW GUINEA   \n",
       "4051    10             16-Oct-55  1955    Provoked         AUSTRALIA   \n",
       "\n",
       "                                   Area  \\\n",
       "4047                           Tasmania   \n",
       "4048                            Florida   \n",
       "4049                   Central Province   \n",
       "4050  Admiralty Islands, Manus Province   \n",
       "4051                         Queensland   \n",
       "\n",
       "                                               Location  \\\n",
       "4047                                                NaN   \n",
       "4048     � mile offshore & 9 miles north of Fort Pierce   \n",
       "4049  Kalautu Village, Baibara at the mouth of Oibad...   \n",
       "4050                                  Low Island, Manus   \n",
       "4051                            Tully, North Queensland   \n",
       "\n",
       "                          Activity  \\\n",
       "4047                  Ocean racing   \n",
       "4048           Fishing for pompano   \n",
       "4049                      Swimming   \n",
       "4050                  Spearfishing   \n",
       "4051  Spearfishing & lassoed shark   \n",
       "\n",
       "                                                  Name Sex   ...  \\\n",
       "4047                                        yacht Even  NaN  ...   \n",
       "4048  boat, occupants: P.D. Neilly & Charlton Anderson  NaN  ...   \n",
       "4049                                          Niu Bodu    M  ...   \n",
       "4050                                              male    M  ...   \n",
       "4051                                        Noel Cross    M  ...   \n",
       "\n",
       "             Species                              Investigator or Source  \\\n",
       "4047              NaN                                     C. Black, GSAF   \n",
       "4048              NaN  R.F. Hutton, 3/30/1959, citing Miami Herald; T...   \n",
       "4049  Wobbegong shark            J. G. Davis; A.M. Rapson, pp.143 & 148    \n",
       "4050              NaN                                      Rapson, p.149   \n",
       "4051         6' shark  Sydney Morning Herald, 10/17/1955;V.M. Copples...   \n",
       "\n",
       "                                      pdf  \\\n",
       "4047                1955.12.31.R-Even.pdf   \n",
       "4048  1955.12.11-boat Neilly_Charlton.pdf   \n",
       "4049               1955.11.16-NiuBodu.pdf   \n",
       "4050             1955.11.00-LowIsland.pdf   \n",
       "4051                 1955.10.16-Cross.pdf   \n",
       "\n",
       "                                           href formula  \\\n",
       "4047  http://sharkattackfile.net/spreadsheets/pdf_di...   \n",
       "4048  http://sharkattackfile.net/spreadsheets/pdf_di...   \n",
       "4049  http://sharkattackfile.net/spreadsheets/pdf_di...   \n",
       "4050  http://sharkattackfile.net/spreadsheets/pdf_di...   \n",
       "4051  http://sharkattackfile.net/spreadsheets/pdf_di...   \n",
       "\n",
       "                                                   href Case Number.1  \\\n",
       "4047  http://sharkattackfile.net/spreadsheets/pdf_di...    1955.12.31   \n",
       "4048  http://sharkattackfile.net/spreadsheets/pdf_di...    1955.12.11   \n",
       "4049  http://sharkattackfile.net/spreadsheets/pdf_di...    1955.11.16   \n",
       "4050  http://sharkattackfile.net/spreadsheets/pdf_di...    1955.11.00   \n",
       "4051  http://sharkattackfile.net/spreadsheets/pdf_di...    1955.10.16   \n",
       "\n",
       "     Case Number.2 original order Unnamed: 22 Unnamed: 23  \n",
       "4047    1955.12.31           1946         NaN         NaN  \n",
       "4048    1955.12.11           1945         NaN         NaN  \n",
       "4049    1955.11.16           1944         NaN         NaN  \n",
       "4050    1955.11.00           1943         NaN         NaN  \n",
       "4051    1955.10.16           1942         NaN         NaN  \n",
       "\n",
       "[5 rows x 24 columns]"
      ]
     },
     "execution_count": 11,
     "metadata": {},
     "output_type": "execute_result"
    }
   ],
   "source": [
    "sharkAttack_1956 = sharkAttack[(sharkAttack['Year']<1956)] #Aquí compruebo el dataset con los valores anteriores a 1956.\n",
    "sharkAttack_1956.head()"
   ]
  },
  {
   "cell_type": "code",
   "execution_count": 12,
   "metadata": {},
   "outputs": [
    {
     "data": {
      "text/html": [
       "<div>\n",
       "<style scoped>\n",
       "    .dataframe tbody tr th:only-of-type {\n",
       "        vertical-align: middle;\n",
       "    }\n",
       "\n",
       "    .dataframe tbody tr th {\n",
       "        vertical-align: top;\n",
       "    }\n",
       "\n",
       "    .dataframe thead th {\n",
       "        text-align: right;\n",
       "    }\n",
       "</style>\n",
       "<table border=\"1\" class=\"dataframe\">\n",
       "  <thead>\n",
       "    <tr style=\"text-align: right;\">\n",
       "      <th></th>\n",
       "      <th>Month</th>\n",
       "      <th>Date</th>\n",
       "      <th>Year</th>\n",
       "      <th>Type</th>\n",
       "      <th>Country</th>\n",
       "      <th>Area</th>\n",
       "      <th>Location</th>\n",
       "      <th>Activity</th>\n",
       "      <th>Name</th>\n",
       "      <th>Sex</th>\n",
       "      <th>...</th>\n",
       "      <th>Species</th>\n",
       "      <th>Investigator or Source</th>\n",
       "      <th>pdf</th>\n",
       "      <th>href formula</th>\n",
       "      <th>href</th>\n",
       "      <th>Case Number.1</th>\n",
       "      <th>Case Number.2</th>\n",
       "      <th>original order</th>\n",
       "      <th>Unnamed: 22</th>\n",
       "      <th>Unnamed: 23</th>\n",
       "    </tr>\n",
       "  </thead>\n",
       "  <tbody>\n",
       "    <tr>\n",
       "      <th>0</th>\n",
       "      <td>09</td>\n",
       "      <td>18-Sep-16</td>\n",
       "      <td>2016</td>\n",
       "      <td>Unprovoked</td>\n",
       "      <td>USA</td>\n",
       "      <td>Florida</td>\n",
       "      <td>New Smyrna Beach, Volusia County</td>\n",
       "      <td>Surfing</td>\n",
       "      <td>male</td>\n",
       "      <td>M</td>\n",
       "      <td>...</td>\n",
       "      <td>NaN</td>\n",
       "      <td>Orlando Sentinel, 9/19/2016</td>\n",
       "      <td>2016.09.18.c-NSB.pdf</td>\n",
       "      <td>http://sharkattackfile.net/spreadsheets/pdf_di...</td>\n",
       "      <td>http://sharkattackfile.net/spreadsheets/pdf_di...</td>\n",
       "      <td>2016.09.18.c</td>\n",
       "      <td>2016.09.18.c</td>\n",
       "      <td>5993</td>\n",
       "      <td>NaN</td>\n",
       "      <td>NaN</td>\n",
       "    </tr>\n",
       "    <tr>\n",
       "      <th>1</th>\n",
       "      <td>09</td>\n",
       "      <td>18-Sep-16</td>\n",
       "      <td>2016</td>\n",
       "      <td>Unprovoked</td>\n",
       "      <td>USA</td>\n",
       "      <td>Florida</td>\n",
       "      <td>New Smyrna Beach, Volusia County</td>\n",
       "      <td>Surfing</td>\n",
       "      <td>Chucky Luciano</td>\n",
       "      <td>M</td>\n",
       "      <td>...</td>\n",
       "      <td>NaN</td>\n",
       "      <td>Orlando Sentinel, 9/19/2016</td>\n",
       "      <td>2016.09.18.b-Luciano.pdf</td>\n",
       "      <td>http://sharkattackfile.net/spreadsheets/pdf_di...</td>\n",
       "      <td>http://sharkattackfile.net/spreadsheets/pdf_di...</td>\n",
       "      <td>2016.09.18.b</td>\n",
       "      <td>2016.09.18.b</td>\n",
       "      <td>5992</td>\n",
       "      <td>NaN</td>\n",
       "      <td>NaN</td>\n",
       "    </tr>\n",
       "    <tr>\n",
       "      <th>2</th>\n",
       "      <td>09</td>\n",
       "      <td>18-Sep-16</td>\n",
       "      <td>2016</td>\n",
       "      <td>Unprovoked</td>\n",
       "      <td>USA</td>\n",
       "      <td>Florida</td>\n",
       "      <td>New Smyrna Beach, Volusia County</td>\n",
       "      <td>Surfing</td>\n",
       "      <td>male</td>\n",
       "      <td>M</td>\n",
       "      <td>...</td>\n",
       "      <td>NaN</td>\n",
       "      <td>Orlando Sentinel, 9/19/2016</td>\n",
       "      <td>2016.09.18.a-NSB.pdf</td>\n",
       "      <td>http://sharkattackfile.net/spreadsheets/pdf_di...</td>\n",
       "      <td>http://sharkattackfile.net/spreadsheets/pdf_di...</td>\n",
       "      <td>2016.09.18.a</td>\n",
       "      <td>2016.09.18.a</td>\n",
       "      <td>5991</td>\n",
       "      <td>NaN</td>\n",
       "      <td>NaN</td>\n",
       "    </tr>\n",
       "    <tr>\n",
       "      <th>3</th>\n",
       "      <td>09</td>\n",
       "      <td>17-Sep-16</td>\n",
       "      <td>2016</td>\n",
       "      <td>Unprovoked</td>\n",
       "      <td>AUSTRALIA</td>\n",
       "      <td>Victoria</td>\n",
       "      <td>Thirteenth Beach</td>\n",
       "      <td>Surfing</td>\n",
       "      <td>Rory Angiolella</td>\n",
       "      <td>M</td>\n",
       "      <td>...</td>\n",
       "      <td>NaN</td>\n",
       "      <td>The Age, 9/18/2016</td>\n",
       "      <td>2016.09.17-Angiolella.pdf</td>\n",
       "      <td>http://sharkattackfile.net/spreadsheets/pdf_di...</td>\n",
       "      <td>http://sharkattackfile.net/spreadsheets/pdf_di...</td>\n",
       "      <td>2016.09.17</td>\n",
       "      <td>2016.09.17</td>\n",
       "      <td>5990</td>\n",
       "      <td>NaN</td>\n",
       "      <td>NaN</td>\n",
       "    </tr>\n",
       "    <tr>\n",
       "      <th>4</th>\n",
       "      <td>09</td>\n",
       "      <td>16-Sep-16</td>\n",
       "      <td>2016</td>\n",
       "      <td>Unprovoked</td>\n",
       "      <td>AUSTRALIA</td>\n",
       "      <td>Victoria</td>\n",
       "      <td>Bells Beach</td>\n",
       "      <td>Surfing</td>\n",
       "      <td>male</td>\n",
       "      <td>M</td>\n",
       "      <td>...</td>\n",
       "      <td>2 m shark</td>\n",
       "      <td>The Age, 9/16/2016</td>\n",
       "      <td>2016.09.16-BellsBeach.pdf</td>\n",
       "      <td>http://sharkattackfile.net/spreadsheets/pdf_di...</td>\n",
       "      <td>http://sharkattackfile.net/spreadsheets/pdf_di...</td>\n",
       "      <td>2016.09.16</td>\n",
       "      <td>2016.09.15</td>\n",
       "      <td>5989</td>\n",
       "      <td>NaN</td>\n",
       "      <td>NaN</td>\n",
       "    </tr>\n",
       "  </tbody>\n",
       "</table>\n",
       "<p>5 rows × 24 columns</p>\n",
       "</div>"
      ],
      "text/plain": [
       "  Month       Date  Year        Type    Country      Area  \\\n",
       "0    09  18-Sep-16  2016  Unprovoked        USA   Florida   \n",
       "1    09  18-Sep-16  2016  Unprovoked        USA   Florida   \n",
       "2    09  18-Sep-16  2016  Unprovoked        USA   Florida   \n",
       "3    09  17-Sep-16  2016  Unprovoked  AUSTRALIA  Victoria   \n",
       "4    09  16-Sep-16  2016  Unprovoked  AUSTRALIA  Victoria   \n",
       "\n",
       "                           Location Activity             Name Sex   ...  \\\n",
       "0  New Smyrna Beach, Volusia County  Surfing             male    M  ...   \n",
       "1  New Smyrna Beach, Volusia County  Surfing   Chucky Luciano    M  ...   \n",
       "2  New Smyrna Beach, Volusia County  Surfing             male    M  ...   \n",
       "3                  Thirteenth Beach  Surfing  Rory Angiolella    M  ...   \n",
       "4                       Bells Beach  Surfing             male    M  ...   \n",
       "\n",
       "    Species        Investigator or Source                        pdf  \\\n",
       "0        NaN  Orlando Sentinel, 9/19/2016       2016.09.18.c-NSB.pdf   \n",
       "1        NaN  Orlando Sentinel, 9/19/2016   2016.09.18.b-Luciano.pdf   \n",
       "2        NaN  Orlando Sentinel, 9/19/2016       2016.09.18.a-NSB.pdf   \n",
       "3        NaN           The Age, 9/18/2016  2016.09.17-Angiolella.pdf   \n",
       "4  2 m shark           The Age, 9/16/2016  2016.09.16-BellsBeach.pdf   \n",
       "\n",
       "                                        href formula  \\\n",
       "0  http://sharkattackfile.net/spreadsheets/pdf_di...   \n",
       "1  http://sharkattackfile.net/spreadsheets/pdf_di...   \n",
       "2  http://sharkattackfile.net/spreadsheets/pdf_di...   \n",
       "3  http://sharkattackfile.net/spreadsheets/pdf_di...   \n",
       "4  http://sharkattackfile.net/spreadsheets/pdf_di...   \n",
       "\n",
       "                                                href Case Number.1  \\\n",
       "0  http://sharkattackfile.net/spreadsheets/pdf_di...  2016.09.18.c   \n",
       "1  http://sharkattackfile.net/spreadsheets/pdf_di...  2016.09.18.b   \n",
       "2  http://sharkattackfile.net/spreadsheets/pdf_di...  2016.09.18.a   \n",
       "3  http://sharkattackfile.net/spreadsheets/pdf_di...    2016.09.17   \n",
       "4  http://sharkattackfile.net/spreadsheets/pdf_di...    2016.09.16   \n",
       "\n",
       "  Case Number.2 original order Unnamed: 22 Unnamed: 23  \n",
       "0  2016.09.18.c           5993         NaN         NaN  \n",
       "1  2016.09.18.b           5992         NaN         NaN  \n",
       "2  2016.09.18.a           5991         NaN         NaN  \n",
       "3    2016.09.17           5990         NaN         NaN  \n",
       "4    2016.09.15           5989         NaN         NaN  \n",
       "\n",
       "[5 rows x 24 columns]"
      ]
     },
     "execution_count": 12,
     "metadata": {},
     "output_type": "execute_result"
    }
   ],
   "source": [
    "sharkAttack = sharkAttack[(sharkAttack['Year']>=1956)] \n",
    "sharkAttack.head()"
   ]
  },
  {
   "cell_type": "code",
   "execution_count": 13,
   "metadata": {},
   "outputs": [
    {
     "data": {
      "text/plain": [
       "Unprovoked      2938\n",
       "Provoked         374\n",
       "Invalid          327\n",
       "Boat             184\n",
       "Sea Disaster      84\n",
       "Boating            3\n",
       "Name: Type, dtype: int64"
      ]
     },
     "execution_count": 13,
     "metadata": {},
     "output_type": "execute_result"
    }
   ],
   "source": [
    "sharkAttack['Type'].value_counts()"
   ]
  },
  {
   "cell_type": "code",
   "execution_count": 14,
   "metadata": {},
   "outputs": [],
   "source": [
    "sharkAttack = sharkAttack.replace(to_replace='Boating', value='Boat', regex=True) \n",
    "\n",
    "#He detectado que en la actividad Boat y Boating están por separado"
   ]
  },
  {
   "cell_type": "markdown",
   "metadata": {},
   "source": [
    "#### Como me interesan los países con mayores ataques de tiburones, voy a seleccionar los que hayan tenido desde 1956  hasta 2016 al menos 10 ataques."
   ]
  },
  {
   "cell_type": "code",
   "execution_count": 15,
   "metadata": {},
   "outputs": [
    {
     "data": {
      "text/plain": [
       "USA             1698\n",
       "AUSTRALIA        682\n",
       "SOUTH AFRICA     431\n",
       "BRAZIL            95\n",
       "BAHAMAS           82\n",
       "Name: Country, dtype: int64"
      ]
     },
     "execution_count": 15,
     "metadata": {},
     "output_type": "execute_result"
    }
   ],
   "source": [
    "sharkAttack ['Country'].value_counts().head()"
   ]
  },
  {
   "cell_type": "code",
   "execution_count": 16,
   "metadata": {},
   "outputs": [],
   "source": [
    "sharkAttack = sharkAttack[sharkAttack['Country'].isin(['USA', 'AUSTRALIA', 'SOUTH AFRICA', 'RAZIL','BAHAMAS','NEW ZEALAND', 'PAPUA NEW GUINEA', 'MEXICO', 'REUNION','NEW CALEDONIA','MOZAMBIQUE','FIJI ITALY','PHILIPPINES', 'EGYPT', 'JAPAN', 'HONG KONG','FRENCH', 'POLYNESIA', 'SPAIN','SOLOMON ISLANDS', 'PANAMA', 'VIETNAM'])]"
   ]
  },
  {
   "cell_type": "markdown",
   "metadata": {},
   "source": [
    "#### Voy a hacer lo mismo con 'Area' y no tendré en cuenta la localización exacta. Para 'Area' voy a seleccionar las ciudades/estados en los que se hayan producido al menos 5 ataques."
   ]
  },
  {
   "cell_type": "code",
   "execution_count": 17,
   "metadata": {},
   "outputs": [],
   "source": [
    "count_area = sharkAttack['Area'].value_counts()\n",
    "count_list = count_area[count_area >= 5].index.tolist()\n",
    "sharkAttack = sharkAttack[sharkAttack['Area'].isin(count_list)]"
   ]
  },
  {
   "cell_type": "code",
   "execution_count": 18,
   "metadata": {},
   "outputs": [],
   "source": [
    "def newString(e):\n",
    "    e=str(e)\n",
    "    if (re.search('California', e)):\n",
    "        return 'California'\n",
    "    if (re.search('Florida', e)):\n",
    "        return 'Florida'\n",
    "    if (re.search('Bay ', e)):\n",
    "        return 'Milne Bay'\n",
    "    else:\n",
    "        return e\n",
    "    \n",
    "#Como algunos estados están repetidos tengo esta función"
   ]
  },
  {
   "cell_type": "code",
   "execution_count": 19,
   "metadata": {},
   "outputs": [],
   "source": [
    "k = sharkAttack['Area'] = sharkAttack['Area'].apply(newString)"
   ]
  },
  {
   "cell_type": "markdown",
   "metadata": {},
   "source": [
    "#### Como ya he limpiado lo más interesante, voy a descartar por completo las columnas que no me van a servir para el análisis. En el caso de 'Injury' la descarto porque con saber si han sido mortales o no puedo sacar conclusiones y en el caso de 'Location', como he dicho anteriormente, me voy a basar en 'Area' que ya aporta bastante información."
   ]
  },
  {
   "cell_type": "code",
   "execution_count": 20,
   "metadata": {},
   "outputs": [],
   "source": [
    "sharkAttack_clean = sharkAttack.drop([\"Unnamed: 22\", \"Unnamed: 23\", \"Case Number.2\",'Time','original order','Injury', \"Case Number.1\",'Location', 'Investigator or Source', 'pdf', 'href formula', 'href', 'Name', 'Date', 'Species '], axis=1)"
   ]
  },
  {
   "cell_type": "code",
   "execution_count": 21,
   "metadata": {},
   "outputs": [
    {
     "data": {
      "text/plain": [
       "N          2643\n",
       "Y           365\n",
       "UNKNOWN      30\n",
       " N            7\n",
       "Name: Fatal (Y/N), dtype: int64"
      ]
     },
     "execution_count": 21,
     "metadata": {},
     "output_type": "execute_result"
    }
   ],
   "source": [
    "sharkAttack_clean['Fatal (Y/N)'].value_counts()\n",
    "\n",
    "#Al hacer el conteo de 'Fatal (Y/N)' he comprobar que hay erratas. El 'N' que está repetido voy a descartarlo."
   ]
  },
  {
   "cell_type": "code",
   "execution_count": 22,
   "metadata": {},
   "outputs": [],
   "source": [
    "sharkAttack_clean = sharkAttack_clean[(sharkAttack_clean['Fatal (Y/N)']=='Y') | (sharkAttack_clean['Fatal (Y/N)']=='N') | (sharkAttack_clean['Fatal (Y/N)']=='UNKNOWN')]"
   ]
  },
  {
   "cell_type": "code",
   "execution_count": 23,
   "metadata": {},
   "outputs": [],
   "source": [
    "sharkAttack_clean.rename(columns={'Sex ':'Sex'}, inplace=True) #Había una errata con la categoría de 'Sex'"
   ]
  },
  {
   "cell_type": "code",
   "execution_count": 24,
   "metadata": {},
   "outputs": [],
   "source": [
    "sharkAttack_clean[\"Sex\"].fillna(\"Unknown\", inplace = True) \n",
    "\n",
    "#No quiero descartar las categorías de sexo de las que no se tengan datos porque creo que puede sesgarse \n",
    "#la información en este sentido demasiado."
   ]
  },
  {
   "cell_type": "code",
   "execution_count": 25,
   "metadata": {},
   "outputs": [],
   "source": [
    "sharkAttack_clean = sharkAttack_clean[(sharkAttack_clean['Sex']=='M') | (sharkAttack_clean['Sex']=='F') | (sharkAttack_clean['Sex']=='Unknown')]"
   ]
  },
  {
   "cell_type": "code",
   "execution_count": 26,
   "metadata": {},
   "outputs": [],
   "source": [
    "#La edad da algunos problemas, así que voy a limpiarla para poder contar con la información correcta.\n",
    "\n",
    "def age(e):\n",
    "    e=str(e)\n",
    "    e = re.findall('\\d+', e)\n",
    "    if len(e)==1:\n",
    "        return e[0]\n",
    "    else:\n",
    "        return'Unknown'"
   ]
  },
  {
   "cell_type": "code",
   "execution_count": 27,
   "metadata": {},
   "outputs": [
    {
     "data": {
      "text/plain": [
       "0         16\n",
       "1         36\n",
       "2         43\n",
       "3    Unknown\n",
       "4    Unknown\n",
       "Name: Age, dtype: object"
      ]
     },
     "execution_count": 27,
     "metadata": {},
     "output_type": "execute_result"
    }
   ],
   "source": [
    "new_age = sharkAttack_clean['Age'].apply(age)\n",
    "new_age.head()"
   ]
  },
  {
   "cell_type": "code",
   "execution_count": 28,
   "metadata": {},
   "outputs": [],
   "source": [
    "sharkAttack_clean[\"Age\"].fillna(\"Unknown\", inplace = True) \n",
    "sharkAttack_clean[\"Activity\"].fillna(\"Unknown\", inplace = True)\n",
    "\n",
    "#Voy a rellenar los Nan de Age y Activity también."
   ]
  },
  {
   "cell_type": "markdown",
   "metadata": {},
   "source": [
    "#### Al igual que con 'Area' voy a seleccionar primero las actividades que hayan producido al menos 10 ataques de tiburones. A partir de ahí corregiré los errores para que estén bien categorizadas y no haya repeticiones."
   ]
  },
  {
   "cell_type": "code",
   "execution_count": 29,
   "metadata": {},
   "outputs": [],
   "source": [
    "contar_actividad = sharkAttack_clean['Activity'].value_counts()\n",
    "contar_actividad = contar_actividad[contar_actividad >= 10].index.tolist()\n",
    "sharkAttack_clean = sharkAttack_clean[sharkAttack_clean['Activity'].isin(contar_actividad)]"
   ]
  },
  {
   "cell_type": "code",
   "execution_count": 30,
   "metadata": {},
   "outputs": [],
   "source": [
    "sharkAttack_clean = sharkAttack_clean.replace(['Body boarding', 'Boogie boarding', 'Boogie Boarding', 'Windsurfing', 'Body surfing', 'Surf-skiing'],'Surfing')"
   ]
  },
  {
   "cell_type": "code",
   "execution_count": 31,
   "metadata": {},
   "outputs": [],
   "source": [
    "sharkAttack_clean = sharkAttack_clean.replace(['Surf fishing'], 'Fishing')"
   ]
  },
  {
   "cell_type": "code",
   "execution_count": 32,
   "metadata": {},
   "outputs": [],
   "source": [
    "sharkAttack_clean = sharkAttack_clean.replace(['Scuba diving', 'Free diving'], 'Diving')"
   ]
  },
  {
   "cell_type": "code",
   "execution_count": 33,
   "metadata": {},
   "outputs": [],
   "source": [
    "sharkAttack_clean = sharkAttack_clean.replace(['Kayak Fishing', 'Free diving'], 'Kayaking')"
   ]
  },
  {
   "cell_type": "code",
   "execution_count": 34,
   "metadata": {},
   "outputs": [],
   "source": [
    "def changeValue(u):\n",
    "    u=str(u)\n",
    "    if (re.search('\\s*Swi\\s*', u)):\n",
    "        return 'Swimming'\n",
    "    else:\n",
    "        return u"
   ]
  },
  {
   "cell_type": "code",
   "execution_count": 35,
   "metadata": {},
   "outputs": [],
   "source": [
    "sharkAttack_clean['Activity'] = sharkAttack_clean['Activity'].apply(changeValue)"
   ]
  },
  {
   "cell_type": "code",
   "execution_count": 36,
   "metadata": {},
   "outputs": [],
   "source": [
    "sharkAttack_clean = sharkAttack_clean[['Year', 'Month', 'Country', 'Area', 'Type', 'Age','Sex','Activity', 'Fatal (Y/N)']]\n",
    "\n",
    "#Voy a confirmar las columnas que finalmente quiero para mi dataframe, ya limpiadas."
   ]
  },
  {
   "cell_type": "code",
   "execution_count": 37,
   "metadata": {},
   "outputs": [
    {
     "data": {
      "text/html": [
       "<div>\n",
       "<style scoped>\n",
       "    .dataframe tbody tr th:only-of-type {\n",
       "        vertical-align: middle;\n",
       "    }\n",
       "\n",
       "    .dataframe tbody tr th {\n",
       "        vertical-align: top;\n",
       "    }\n",
       "\n",
       "    .dataframe thead th {\n",
       "        text-align: right;\n",
       "    }\n",
       "</style>\n",
       "<table border=\"1\" class=\"dataframe\">\n",
       "  <thead>\n",
       "    <tr style=\"text-align: right;\">\n",
       "      <th></th>\n",
       "      <th>Year</th>\n",
       "      <th>Month</th>\n",
       "      <th>Country</th>\n",
       "      <th>Area</th>\n",
       "      <th>Type</th>\n",
       "      <th>Age</th>\n",
       "      <th>Sex</th>\n",
       "      <th>Activity</th>\n",
       "      <th>Fatal (Y/N)</th>\n",
       "    </tr>\n",
       "  </thead>\n",
       "  <tbody>\n",
       "    <tr>\n",
       "      <th>0</th>\n",
       "      <td>2016</td>\n",
       "      <td>09</td>\n",
       "      <td>USA</td>\n",
       "      <td>Florida</td>\n",
       "      <td>Unprovoked</td>\n",
       "      <td>16</td>\n",
       "      <td>M</td>\n",
       "      <td>Surfing</td>\n",
       "      <td>N</td>\n",
       "    </tr>\n",
       "    <tr>\n",
       "      <th>1</th>\n",
       "      <td>2016</td>\n",
       "      <td>09</td>\n",
       "      <td>USA</td>\n",
       "      <td>Florida</td>\n",
       "      <td>Unprovoked</td>\n",
       "      <td>36</td>\n",
       "      <td>M</td>\n",
       "      <td>Surfing</td>\n",
       "      <td>N</td>\n",
       "    </tr>\n",
       "    <tr>\n",
       "      <th>2</th>\n",
       "      <td>2016</td>\n",
       "      <td>09</td>\n",
       "      <td>USA</td>\n",
       "      <td>Florida</td>\n",
       "      <td>Unprovoked</td>\n",
       "      <td>43</td>\n",
       "      <td>M</td>\n",
       "      <td>Surfing</td>\n",
       "      <td>N</td>\n",
       "    </tr>\n",
       "    <tr>\n",
       "      <th>3</th>\n",
       "      <td>2016</td>\n",
       "      <td>09</td>\n",
       "      <td>AUSTRALIA</td>\n",
       "      <td>Victoria</td>\n",
       "      <td>Unprovoked</td>\n",
       "      <td>Unknown</td>\n",
       "      <td>M</td>\n",
       "      <td>Surfing</td>\n",
       "      <td>N</td>\n",
       "    </tr>\n",
       "    <tr>\n",
       "      <th>4</th>\n",
       "      <td>2016</td>\n",
       "      <td>09</td>\n",
       "      <td>AUSTRALIA</td>\n",
       "      <td>Victoria</td>\n",
       "      <td>Unprovoked</td>\n",
       "      <td>Unknown</td>\n",
       "      <td>M</td>\n",
       "      <td>Surfing</td>\n",
       "      <td>N</td>\n",
       "    </tr>\n",
       "  </tbody>\n",
       "</table>\n",
       "</div>"
      ],
      "text/plain": [
       "   Year Month    Country      Area        Type      Age Sex Activity  \\\n",
       "0  2016    09        USA   Florida  Unprovoked       16   M  Surfing   \n",
       "1  2016    09        USA   Florida  Unprovoked       36   M  Surfing   \n",
       "2  2016    09        USA   Florida  Unprovoked       43   M  Surfing   \n",
       "3  2016    09  AUSTRALIA  Victoria  Unprovoked  Unknown   M  Surfing   \n",
       "4  2016    09  AUSTRALIA  Victoria  Unprovoked  Unknown   M  Surfing   \n",
       "\n",
       "  Fatal (Y/N)  \n",
       "0           N  \n",
       "1           N  \n",
       "2           N  \n",
       "3           N  \n",
       "4           N  "
      ]
     },
     "execution_count": 37,
     "metadata": {},
     "output_type": "execute_result"
    }
   ],
   "source": [
    "sharkAttack_clean.head()"
   ]
  },
  {
   "cell_type": "code",
   "execution_count": 38,
   "metadata": {},
   "outputs": [],
   "source": [
    "sharkAttack_clean.to_csv('../your-code/data-wrangling.csv', index=False)"
   ]
  },
  {
   "cell_type": "markdown",
   "metadata": {},
   "source": [
    "##  Análisis de datos"
   ]
  },
  {
   "cell_type": "markdown",
   "metadata": {},
   "source": [
    "#### Voy a empezar analizando los ataques mortales para compararlos con los no mortales y ver la diferencia entre ellos."
   ]
  },
  {
   "cell_type": "code",
   "execution_count": 39,
   "metadata": {},
   "outputs": [
    {
     "data": {
      "text/html": [
       "<div>\n",
       "<style scoped>\n",
       "    .dataframe tbody tr th:only-of-type {\n",
       "        vertical-align: middle;\n",
       "    }\n",
       "\n",
       "    .dataframe tbody tr th {\n",
       "        vertical-align: top;\n",
       "    }\n",
       "\n",
       "    .dataframe thead th {\n",
       "        text-align: right;\n",
       "    }\n",
       "</style>\n",
       "<table border=\"1\" class=\"dataframe\">\n",
       "  <thead>\n",
       "    <tr style=\"text-align: right;\">\n",
       "      <th></th>\n",
       "      <th>Year</th>\n",
       "      <th>Month</th>\n",
       "      <th>Country</th>\n",
       "      <th>Area</th>\n",
       "      <th>Type</th>\n",
       "      <th>Age</th>\n",
       "      <th>Sex</th>\n",
       "      <th>Activity</th>\n",
       "      <th>Fatal (Y/N)</th>\n",
       "    </tr>\n",
       "  </thead>\n",
       "  <tbody>\n",
       "    <tr>\n",
       "      <th>52</th>\n",
       "      <td>2016</td>\n",
       "      <td>06</td>\n",
       "      <td>AUSTRALIA</td>\n",
       "      <td>Western Australia</td>\n",
       "      <td>Unprovoked</td>\n",
       "      <td>60</td>\n",
       "      <td>F</td>\n",
       "      <td>Diving</td>\n",
       "      <td>Y</td>\n",
       "    </tr>\n",
       "    <tr>\n",
       "      <th>56</th>\n",
       "      <td>2016</td>\n",
       "      <td>05</td>\n",
       "      <td>AUSTRALIA</td>\n",
       "      <td>Western Australia</td>\n",
       "      <td>Unprovoked</td>\n",
       "      <td>29</td>\n",
       "      <td>M</td>\n",
       "      <td>Surfing</td>\n",
       "      <td>Y</td>\n",
       "    </tr>\n",
       "    <tr>\n",
       "      <th>208</th>\n",
       "      <td>2015</td>\n",
       "      <td>04</td>\n",
       "      <td>USA</td>\n",
       "      <td>Hawaii</td>\n",
       "      <td>Unprovoked</td>\n",
       "      <td>65</td>\n",
       "      <td>F</td>\n",
       "      <td>Snorkeling</td>\n",
       "      <td>Y</td>\n",
       "    </tr>\n",
       "    <tr>\n",
       "      <th>227</th>\n",
       "      <td>2015</td>\n",
       "      <td>02</td>\n",
       "      <td>AUSTRALIA</td>\n",
       "      <td>New South Wales</td>\n",
       "      <td>Unprovoked</td>\n",
       "      <td>41</td>\n",
       "      <td>M</td>\n",
       "      <td>Surfing</td>\n",
       "      <td>Y</td>\n",
       "    </tr>\n",
       "    <tr>\n",
       "      <th>242</th>\n",
       "      <td>2014</td>\n",
       "      <td>12</td>\n",
       "      <td>AUSTRALIA</td>\n",
       "      <td>Western Australia</td>\n",
       "      <td>Unprovoked</td>\n",
       "      <td>17</td>\n",
       "      <td>M</td>\n",
       "      <td>Spearfishing</td>\n",
       "      <td>Y</td>\n",
       "    </tr>\n",
       "  </tbody>\n",
       "</table>\n",
       "</div>"
      ],
      "text/plain": [
       "     Year Month    Country               Area        Type Age Sex  \\\n",
       "52   2016    06  AUSTRALIA  Western Australia  Unprovoked  60   F   \n",
       "56   2016    05  AUSTRALIA  Western Australia  Unprovoked  29   M   \n",
       "208  2015    04        USA             Hawaii  Unprovoked  65   F   \n",
       "227  2015    02  AUSTRALIA    New South Wales  Unprovoked  41   M   \n",
       "242  2014    12  AUSTRALIA  Western Australia  Unprovoked  17   M   \n",
       "\n",
       "         Activity Fatal (Y/N)  \n",
       "52         Diving           Y  \n",
       "56        Surfing           Y  \n",
       "208    Snorkeling           Y  \n",
       "227       Surfing           Y  \n",
       "242  Spearfishing           Y  "
      ]
     },
     "execution_count": 39,
     "metadata": {},
     "output_type": "execute_result"
    }
   ],
   "source": [
    "mortalAttack = sharkAttack_clean[(sharkAttack_clean['Fatal (Y/N)']=='Y')]\n",
    "mortalAttack.head()"
   ]
  },
  {
   "cell_type": "code",
   "execution_count": 40,
   "metadata": {},
   "outputs": [
    {
     "data": {
      "text/plain": [
       "Y    229\n",
       "Name: Fatal (Y/N), dtype: int64"
      ]
     },
     "execution_count": 40,
     "metadata": {},
     "output_type": "execute_result"
    }
   ],
   "source": [
    "mortalAttack['Fatal (Y/N)'].value_counts()"
   ]
  },
  {
   "cell_type": "code",
   "execution_count": 71,
   "metadata": {},
   "outputs": [
    {
     "data": {
      "text/html": [
       "<div>\n",
       "<style scoped>\n",
       "    .dataframe tbody tr th:only-of-type {\n",
       "        vertical-align: middle;\n",
       "    }\n",
       "\n",
       "    .dataframe tbody tr th {\n",
       "        vertical-align: top;\n",
       "    }\n",
       "\n",
       "    .dataframe thead th {\n",
       "        text-align: right;\n",
       "    }\n",
       "</style>\n",
       "<table border=\"1\" class=\"dataframe\">\n",
       "  <thead>\n",
       "    <tr style=\"text-align: right;\">\n",
       "      <th></th>\n",
       "      <th>Fatal (Y/N)</th>\n",
       "    </tr>\n",
       "  </thead>\n",
       "  <tbody>\n",
       "    <tr>\n",
       "      <th>N</th>\n",
       "      <td>1985</td>\n",
       "    </tr>\n",
       "    <tr>\n",
       "      <th>Y</th>\n",
       "      <td>229</td>\n",
       "    </tr>\n",
       "    <tr>\n",
       "      <th>UNKNOWN</th>\n",
       "      <td>27</td>\n",
       "    </tr>\n",
       "  </tbody>\n",
       "</table>\n",
       "</div>"
      ],
      "text/plain": [
       "         Fatal (Y/N)\n",
       "N               1985\n",
       "Y                229\n",
       "UNKNOWN           27"
      ]
     },
     "metadata": {},
     "output_type": "display_data"
    }
   ],
   "source": [
    "total_poblacion = pd.DataFrame(sharkAttack_clean['Fatal (Y/N)'].value_counts())\n",
    "display(total_poblacion)\n"
   ]
  },
  {
   "cell_type": "code",
   "execution_count": 74,
   "metadata": {},
   "outputs": [
    {
     "data": {
      "text/html": [
       "<div>\n",
       "<style scoped>\n",
       "    .dataframe tbody tr th:only-of-type {\n",
       "        vertical-align: middle;\n",
       "    }\n",
       "\n",
       "    .dataframe tbody tr th {\n",
       "        vertical-align: top;\n",
       "    }\n",
       "\n",
       "    .dataframe thead th {\n",
       "        text-align: right;\n",
       "    }\n",
       "</style>\n",
       "<table border=\"1\" class=\"dataframe\">\n",
       "  <thead>\n",
       "    <tr style=\"text-align: right;\">\n",
       "      <th></th>\n",
       "      <th>Fatal (Y/N)</th>\n",
       "      <th>porcentaje</th>\n",
       "    </tr>\n",
       "  </thead>\n",
       "  <tbody>\n",
       "    <tr>\n",
       "      <th>N</th>\n",
       "      <td>1985</td>\n",
       "      <td>88.576528</td>\n",
       "    </tr>\n",
       "    <tr>\n",
       "      <th>Y</th>\n",
       "      <td>229</td>\n",
       "      <td>10.218652</td>\n",
       "    </tr>\n",
       "    <tr>\n",
       "      <th>UNKNOWN</th>\n",
       "      <td>27</td>\n",
       "      <td>1.204819</td>\n",
       "    </tr>\n",
       "  </tbody>\n",
       "</table>\n",
       "</div>"
      ],
      "text/plain": [
       "         Fatal (Y/N)  porcentaje\n",
       "N               1985   88.576528\n",
       "Y                229   10.218652\n",
       "UNKNOWN           27    1.204819"
      ]
     },
     "metadata": {},
     "output_type": "display_data"
    }
   ],
   "source": [
    "total_poblacion['porcentaje']=total_poblacion['Fatal (Y/N)']/total_poblacion['Fatal (Y/N)'].sum()*100\n",
    "\n",
    "display(total_poblacion)\n"
   ]
  },
  {
   "cell_type": "code",
   "execution_count": 43,
   "metadata": {},
   "outputs": [
    {
     "data": {
      "text/html": [
       "<div>\n",
       "<style scoped>\n",
       "    .dataframe tbody tr th:only-of-type {\n",
       "        vertical-align: middle;\n",
       "    }\n",
       "\n",
       "    .dataframe tbody tr th {\n",
       "        vertical-align: top;\n",
       "    }\n",
       "\n",
       "    .dataframe thead th {\n",
       "        text-align: right;\n",
       "    }\n",
       "</style>\n",
       "<table border=\"1\" class=\"dataframe\">\n",
       "  <thead>\n",
       "    <tr style=\"text-align: right;\">\n",
       "      <th></th>\n",
       "      <th>Year</th>\n",
       "      <th>Month</th>\n",
       "      <th>Country</th>\n",
       "      <th>Area</th>\n",
       "      <th>Type</th>\n",
       "      <th>Age</th>\n",
       "      <th>Sex</th>\n",
       "      <th>Activity</th>\n",
       "      <th>Fatal (Y/N)</th>\n",
       "    </tr>\n",
       "  </thead>\n",
       "  <tbody>\n",
       "    <tr>\n",
       "      <th>0</th>\n",
       "      <td>2016</td>\n",
       "      <td>09</td>\n",
       "      <td>USA</td>\n",
       "      <td>Florida</td>\n",
       "      <td>Unprovoked</td>\n",
       "      <td>16</td>\n",
       "      <td>M</td>\n",
       "      <td>Surfing</td>\n",
       "      <td>N</td>\n",
       "    </tr>\n",
       "    <tr>\n",
       "      <th>1</th>\n",
       "      <td>2016</td>\n",
       "      <td>09</td>\n",
       "      <td>USA</td>\n",
       "      <td>Florida</td>\n",
       "      <td>Unprovoked</td>\n",
       "      <td>36</td>\n",
       "      <td>M</td>\n",
       "      <td>Surfing</td>\n",
       "      <td>N</td>\n",
       "    </tr>\n",
       "    <tr>\n",
       "      <th>2</th>\n",
       "      <td>2016</td>\n",
       "      <td>09</td>\n",
       "      <td>USA</td>\n",
       "      <td>Florida</td>\n",
       "      <td>Unprovoked</td>\n",
       "      <td>43</td>\n",
       "      <td>M</td>\n",
       "      <td>Surfing</td>\n",
       "      <td>N</td>\n",
       "    </tr>\n",
       "    <tr>\n",
       "      <th>3</th>\n",
       "      <td>2016</td>\n",
       "      <td>09</td>\n",
       "      <td>AUSTRALIA</td>\n",
       "      <td>Victoria</td>\n",
       "      <td>Unprovoked</td>\n",
       "      <td>Unknown</td>\n",
       "      <td>M</td>\n",
       "      <td>Surfing</td>\n",
       "      <td>N</td>\n",
       "    </tr>\n",
       "    <tr>\n",
       "      <th>4</th>\n",
       "      <td>2016</td>\n",
       "      <td>09</td>\n",
       "      <td>AUSTRALIA</td>\n",
       "      <td>Victoria</td>\n",
       "      <td>Unprovoked</td>\n",
       "      <td>Unknown</td>\n",
       "      <td>M</td>\n",
       "      <td>Surfing</td>\n",
       "      <td>N</td>\n",
       "    </tr>\n",
       "  </tbody>\n",
       "</table>\n",
       "</div>"
      ],
      "text/plain": [
       "   Year Month    Country      Area        Type      Age Sex Activity  \\\n",
       "0  2016    09        USA   Florida  Unprovoked       16   M  Surfing   \n",
       "1  2016    09        USA   Florida  Unprovoked       36   M  Surfing   \n",
       "2  2016    09        USA   Florida  Unprovoked       43   M  Surfing   \n",
       "3  2016    09  AUSTRALIA  Victoria  Unprovoked  Unknown   M  Surfing   \n",
       "4  2016    09  AUSTRALIA  Victoria  Unprovoked  Unknown   M  Surfing   \n",
       "\n",
       "  Fatal (Y/N)  \n",
       "0           N  \n",
       "1           N  \n",
       "2           N  \n",
       "3           N  \n",
       "4           N  "
      ]
     },
     "execution_count": 43,
     "metadata": {},
     "output_type": "execute_result"
    }
   ],
   "source": [
    "noMortalAttack = sharkAttack_clean[(sharkAttack_clean['Fatal (Y/N)']=='N')]\n",
    "noMortalAttack.head()"
   ]
  },
  {
   "cell_type": "code",
   "execution_count": 44,
   "metadata": {
    "scrolled": true
   },
   "outputs": [
    {
     "data": {
      "text/plain": [
       "1985"
      ]
     },
     "execution_count": 44,
     "metadata": {},
     "output_type": "execute_result"
    }
   ],
   "source": [
    "noMortalAttack['Fatal (Y/N)'].value_counts().sum() "
   ]
  },
  {
   "cell_type": "markdown",
   "metadata": {},
   "source": [
    "#### Podemos comprobar que el número de muertes en los últimos 60 años ha sido de 229, frente a los 1985 ataques que no han sido mortales."
   ]
  },
  {
   "cell_type": "code",
   "execution_count": 45,
   "metadata": {},
   "outputs": [
    {
     "data": {
      "text/html": [
       "<div>\n",
       "<style scoped>\n",
       "    .dataframe tbody tr th:only-of-type {\n",
       "        vertical-align: middle;\n",
       "    }\n",
       "\n",
       "    .dataframe tbody tr th {\n",
       "        vertical-align: top;\n",
       "    }\n",
       "\n",
       "    .dataframe thead th {\n",
       "        text-align: right;\n",
       "    }\n",
       "</style>\n",
       "<table border=\"1\" class=\"dataframe\">\n",
       "  <thead>\n",
       "    <tr style=\"text-align: right;\">\n",
       "      <th></th>\n",
       "      <th>Fatal (Y/N)</th>\n",
       "      <th>Year</th>\n",
       "    </tr>\n",
       "  </thead>\n",
       "  <tbody>\n",
       "    <tr>\n",
       "      <th>52</th>\n",
       "      <td>Y</td>\n",
       "      <td>2016</td>\n",
       "    </tr>\n",
       "    <tr>\n",
       "      <th>56</th>\n",
       "      <td>Y</td>\n",
       "      <td>2016</td>\n",
       "    </tr>\n",
       "    <tr>\n",
       "      <th>208</th>\n",
       "      <td>Y</td>\n",
       "      <td>2015</td>\n",
       "    </tr>\n",
       "    <tr>\n",
       "      <th>227</th>\n",
       "      <td>Y</td>\n",
       "      <td>2015</td>\n",
       "    </tr>\n",
       "    <tr>\n",
       "      <th>242</th>\n",
       "      <td>Y</td>\n",
       "      <td>2014</td>\n",
       "    </tr>\n",
       "  </tbody>\n",
       "</table>\n",
       "</div>"
      ],
      "text/plain": [
       "    Fatal (Y/N)  Year\n",
       "52            Y  2016\n",
       "56            Y  2016\n",
       "208           Y  2015\n",
       "227           Y  2015\n",
       "242           Y  2014"
      ]
     },
     "execution_count": 45,
     "metadata": {},
     "output_type": "execute_result"
    }
   ],
   "source": [
    "mortalAttacks = mortalAttack[['Fatal (Y/N)','Year']]\n",
    "mortalAttacks.head()"
   ]
  },
  {
   "cell_type": "code",
   "execution_count": 79,
   "metadata": {},
   "outputs": [],
   "source": [
    "mortalAttacksGroup = mortalAttacks.groupby('Year')\n",
    "data_nuevo = mortalAttacksGroup.count()"
   ]
  },
  {
   "cell_type": "code",
   "execution_count": 47,
   "metadata": {},
   "outputs": [
    {
     "data": {
      "text/plain": [
       "1"
      ]
     },
     "execution_count": 47,
     "metadata": {},
     "output_type": "execute_result"
    }
   ],
   "source": [
    "mortalAttacksGroup.size().min()"
   ]
  },
  {
   "cell_type": "code",
   "execution_count": 81,
   "metadata": {},
   "outputs": [
    {
     "data": {
      "text/plain": [
       "<matplotlib.axes._subplots.AxesSubplot at 0x129c32d68>"
      ]
     },
     "execution_count": 81,
     "metadata": {},
     "output_type": "execute_result"
    },
    {
     "data": {
      "image/png": "[encoded data removed]",
      "text/plain": [
       "<Figure size 432x288 with 1 Axes>"
      ]
     },
     "metadata": {
      "needs_background": "light"
     },
     "output_type": "display_data"
    }
   ],
   "source": [
    "%matplotlib inline\n",
    "data_nuevo.plot()"
   ]
  },
  {
   "cell_type": "markdown",
   "metadata": {},
   "source": [
    "#### El máximo número de muertes por tiburones en un año es de 8. Fue en 2011. El menor número de muertes fue de 1 en 1966, 1970, 1986 y 1996."
   ]
  },
  {
   "cell_type": "markdown",
   "metadata": {},
   "source": [
    "#### Ahora quiero comprobar si se produce un mayor número de muertes por ataques de tiburones cuando son provocados o no para determinar la influencia humana."
   ]
  },
  {
   "cell_type": "code",
   "execution_count": null,
   "metadata": {},
   "outputs": [],
   "source": [
    "humanActivity = sharkAttack_clean[(sharkAttack_clean['Fatal (Y/N)']=='Y') & (sharkAttack_clean['Type']!='Unprovoked')]\n",
    "humanActivity.head()"
   ]
  },
  {
   "cell_type": "code",
   "execution_count": null,
   "metadata": {},
   "outputs": [],
   "source": [
    "dataHumanActivity = humanActivity[['Type', 'Year', 'Activity', 'Fatal (Y/N)']]\n",
    "dataHumanActivity.head()"
   ]
  },
  {
   "cell_type": "code",
   "execution_count": null,
   "metadata": {},
   "outputs": [],
   "source": [
    "dataHumanActivity['Fatal (Y/N)'].value_counts()\n",
    "dataHumanActivity['Type'].value_counts()"
   ]
  },
  {
   "cell_type": "code",
   "execution_count": null,
   "metadata": {},
   "outputs": [],
   "source": [
    "dataHumanActivity['Activity'].value_counts()"
   ]
  },
  {
   "cell_type": "markdown",
   "metadata": {},
   "source": [
    "#### De las 70 muertes por causas que podríamos considerar 'provocadas' al estar fuera de 'Unprovoked', las principales son 'Swimming', y 'Diving'. Habría que mejorar el análisis al comprobar que la actividad 'Unknown' está entre las 3 primeras. Lo que sí parece quedar descartado es que 'Surfing' sea la principal causa de muerte.\n"
   ]
  },
  {
   "cell_type": "code",
   "execution_count": null,
   "metadata": {},
   "outputs": [],
   "source": [
    "unprovokedType = mortalAttack[(mortalAttack[\"Type\"] == \"Unprovoked\")]\n",
    "unprovokedType.head()"
   ]
  },
  {
   "cell_type": "code",
   "execution_count": null,
   "metadata": {},
   "outputs": [],
   "source": [
    "unprovokedType['Activity'].value_counts().head()"
   ]
  },
  {
   "cell_type": "markdown",
   "metadata": {},
   "source": [
    "#### De todos los ataques mortales del tipo 'Unprovoked' (159) , las principales actividades son Swimming y Surfing. La actividad de Surfing parece ser más determinante en los casos en los que no hay injerencia humana, a diferencia de lo que hemos comprobado antes."
   ]
  },
  {
   "cell_type": "code",
   "execution_count": null,
   "metadata": {},
   "outputs": [],
   "source": [
    "dataHumanActivity2 = mortalAttack[['Fatal (Y/N)','Activity']]\n",
    "dataHumanActivity2.head()"
   ]
  },
  {
   "cell_type": "code",
   "execution_count": null,
   "metadata": {},
   "outputs": [],
   "source": [
    "y = dataHumanActivity2['Activity'].value_counts()\n",
    "y.sum()"
   ]
  },
  {
   "cell_type": "markdown",
   "metadata": {},
   "source": [
    "#### Tras comprobar cuáles son las actividades asociadas a muerte por ataque de tiburones, voy a mostrarlo en un gráfico para que sea más visual."
   ]
  },
  {
   "cell_type": "code",
   "execution_count": null,
   "metadata": {},
   "outputs": [],
   "source": [
    "d ={'Activity': ['Swimming','Surfing','Unknown','Spearfishing', 'Diving', 'Fishing', 'Snorkeling', 'Wading', 'Kayaking', 'Standing', 'Treading water'], 'Total Deaths':['73', '44', '33', '26','25','9','7','6','2','2','2']}\n",
    "new_dataframe = pd.DataFrame(data=d)\n",
    "new_dataframe.head()"
   ]
  },
  {
   "cell_type": "code",
   "execution_count": null,
   "metadata": {},
   "outputs": [],
   "source": [
    "colors = [\"#85C1E9\", \"#3498DB\", \"#1F618D\", \"#A3E4D7\", \"#73C6B6\", \"#D0ECE7\", \"#EBF5FB\"]\n",
    "plt.pie(new_dataframe['Total Deaths'], labels = new_dataframe['Activity'],colors=colors, explode=(0, 0, 0, 0,0,0,0,6,6,8,12),\n",
    "shadow=True,startangle=20,pctdistance=0.7,labeldistance=1.1,textprops={'size': 'smaller'},radius=8, autopct='%1.1f%%')\n",
    "plt.axis('scaled')\n",
    "plt.show()"
   ]
  },
  {
   "cell_type": "markdown",
   "metadata": {},
   "source": [
    "#### Gráfico que muestra el número de muertes por actividad."
   ]
  },
  {
   "cell_type": "markdown",
   "metadata": {},
   "source": [
    "#### Una de mis hipótesis estaba relacionada con los países con mayor número de muertes por ataque de tiburones. En principio voy a ver el número de ataques y comprobar si fueron mortales o no."
   ]
  },
  {
   "cell_type": "code",
   "execution_count": null,
   "metadata": {},
   "outputs": [],
   "source": [
    "sharkAttack['Country'].value_counts()"
   ]
  },
  {
   "cell_type": "code",
   "execution_count": null,
   "metadata": {},
   "outputs": [],
   "source": [
    "attackCountry = mortalAttack[['Fatal (Y/N)','Year', 'Country', 'Activity']]\n",
    "attackCountry.head()"
   ]
  },
  {
   "cell_type": "code",
   "execution_count": null,
   "metadata": {},
   "outputs": [],
   "source": [
    "attackCountry['Country'].value_counts() \n",
    "\n",
    "#Al parecer se han producido más ataques en USA pero el número de muertes es mayor en Astralia"
   ]
  },
  {
   "cell_type": "markdown",
   "metadata": {},
   "source": [
    "#### Ahora podemos ver el número de muertes por ataques de tiburones y la actividad que se estaba realizando en cada país."
   ]
  },
  {
   "cell_type": "code",
   "execution_count": null,
   "metadata": {},
   "outputs": [],
   "source": [
    "tableCountry = pd.crosstab(attackCountry.Country, attackCountry.Activity, margins=True, margins_name=\"Total\")\n",
    "tableCountry.head()"
   ]
  },
  {
   "cell_type": "code",
   "execution_count": null,
   "metadata": {},
   "outputs": [],
   "source": [
    "dataPlot = tableCountry[['Diving','Fishing','Kayaking','Snorkeling','Spearfishing','Standing','Surfing','Swimming','Treading water','Unknown','Wading']]\n",
    "\n",
    "#Creo un dataframe nuevo porque no quiero que el gráfico me incluya la columna de Total ya que se repiten datos."
   ]
  },
  {
   "cell_type": "code",
   "execution_count": null,
   "metadata": {},
   "outputs": [],
   "source": [
    "dataPlot.plot(kind=\"bar\", figsize=(7,7), stacked=True)"
   ]
  },
  {
   "cell_type": "markdown",
   "metadata": {},
   "source": [
    "#### Con este gráfico se puede ver que en Australia las actividades más asociadas a muerte por ataque de tiburones son 'Surfing'y 'Swimming'. En USA es donde más pesa tiene, por ejemplo, 'Wading'."
   ]
  },
  {
   "cell_type": "markdown",
   "metadata": {},
   "source": [
    "## Conclusiones"
   ]
  },
  {
   "cell_type": "markdown",
   "metadata": {},
   "source": [
    "```\n",
    "- El país donde más gente ha muerto por tiburones no es Estados Unidos, sino Australia.\n",
    "\n",
    "- El número de muertes por ataque de tiburones es mayor en los casos 'Unprovoked' por lo que la actividad o la injerencia humana tiene menos peso que otras circunstancias.\n",
    "\n",
    "- La actividad más relacionada con la muerte por ataque de tiburones no es el surf como tal, sino 'Swimming', aunque 'Surfing' sería la que le sigue.\n",
    "\n",
    "```"
   ]
  },
  {
   "cell_type": "markdown",
   "metadata": {},
   "source": [
    "## Mejoras del análisis"
   ]
  },
  {
   "cell_type": "markdown",
   "metadata": {},
   "source": [
    "- He limpiados algunos datos que después no he utilizado para el análisis, por lo que quizá eso sería algo a mejorar en futuros análisis. \n",
    "\n",
    "- Como he comentado también, en el caso de las actividades hay un porcentaje relevante de 'Unknown' por lo que sería interesante darle otra vuelta para intentar clasificar mejor esta categoría.\n",
    "\n",
    "- Aunque no ha sido posible por las característas del proyecto, podría ser interesante cruzar los datos de las especies de tiburones con los niveles de población de cada especie (si están en peligro de extinción, desde cuándo etc.)"
   ]
  }
 ],
 "metadata": {
  "kernelspec": {
   "display_name": "Python 3",
   "language": "python",
   "name": "python3"
  },
  "language_info": {
   "codemirror_mode": {
    "name": "ipython",
    "version": 3
   },
   "file_extension": ".py",
   "mimetype": "text/x-python",
   "name": "python",
   "nbconvert_exporter": "python",
   "pygments_lexer": "ipython3",
   "version": "3.7.3"
  }
 },
 "nbformat": 4,
 "nbformat_minor": 2
}
